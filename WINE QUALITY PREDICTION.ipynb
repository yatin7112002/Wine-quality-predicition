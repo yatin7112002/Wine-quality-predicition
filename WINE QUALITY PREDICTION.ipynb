{
 "cells": [
  {
   "cell_type": "code",
   "execution_count": 2,
   "id": "50484e52",
   "metadata": {},
   "outputs": [],
   "source": [
    "import pandas as pd\n",
    "import numpy as np\n",
    "import matplotlib.pyplot as plt"
   ]
  },
  {
   "cell_type": "code",
   "execution_count": 3,
   "id": "5a3bfd1a",
   "metadata": {},
   "outputs": [
    {
     "data": {
      "text/html": [
       "<div>\n",
       "<style scoped>\n",
       "    .dataframe tbody tr th:only-of-type {\n",
       "        vertical-align: middle;\n",
       "    }\n",
       "\n",
       "    .dataframe tbody tr th {\n",
       "        vertical-align: top;\n",
       "    }\n",
       "\n",
       "    .dataframe thead th {\n",
       "        text-align: right;\n",
       "    }\n",
       "</style>\n",
       "<table border=\"1\" class=\"dataframe\">\n",
       "  <thead>\n",
       "    <tr style=\"text-align: right;\">\n",
       "      <th></th>\n",
       "      <th>fixed acidity</th>\n",
       "      <th>volatile acidity</th>\n",
       "      <th>citric acid</th>\n",
       "      <th>residual sugar</th>\n",
       "      <th>chlorides</th>\n",
       "      <th>free sulfur dioxide</th>\n",
       "      <th>total sulfur dioxide</th>\n",
       "      <th>density</th>\n",
       "      <th>pH</th>\n",
       "      <th>sulphates</th>\n",
       "      <th>alcohol</th>\n",
       "      <th>quality</th>\n",
       "    </tr>\n",
       "  </thead>\n",
       "  <tbody>\n",
       "    <tr>\n",
       "      <th>0</th>\n",
       "      <td>7.4</td>\n",
       "      <td>0.70</td>\n",
       "      <td>0.00</td>\n",
       "      <td>1.9</td>\n",
       "      <td>0.076</td>\n",
       "      <td>11.0</td>\n",
       "      <td>34.0</td>\n",
       "      <td>0.9978</td>\n",
       "      <td>3.51</td>\n",
       "      <td>0.56</td>\n",
       "      <td>9.4</td>\n",
       "      <td>5</td>\n",
       "    </tr>\n",
       "    <tr>\n",
       "      <th>1</th>\n",
       "      <td>7.8</td>\n",
       "      <td>0.88</td>\n",
       "      <td>0.00</td>\n",
       "      <td>2.6</td>\n",
       "      <td>0.098</td>\n",
       "      <td>25.0</td>\n",
       "      <td>67.0</td>\n",
       "      <td>0.9968</td>\n",
       "      <td>3.20</td>\n",
       "      <td>0.68</td>\n",
       "      <td>9.8</td>\n",
       "      <td>5</td>\n",
       "    </tr>\n",
       "    <tr>\n",
       "      <th>2</th>\n",
       "      <td>7.8</td>\n",
       "      <td>0.76</td>\n",
       "      <td>0.04</td>\n",
       "      <td>2.3</td>\n",
       "      <td>0.092</td>\n",
       "      <td>15.0</td>\n",
       "      <td>54.0</td>\n",
       "      <td>0.9970</td>\n",
       "      <td>3.26</td>\n",
       "      <td>0.65</td>\n",
       "      <td>9.8</td>\n",
       "      <td>5</td>\n",
       "    </tr>\n",
       "    <tr>\n",
       "      <th>3</th>\n",
       "      <td>11.2</td>\n",
       "      <td>0.28</td>\n",
       "      <td>0.56</td>\n",
       "      <td>1.9</td>\n",
       "      <td>0.075</td>\n",
       "      <td>17.0</td>\n",
       "      <td>60.0</td>\n",
       "      <td>0.9980</td>\n",
       "      <td>3.16</td>\n",
       "      <td>0.58</td>\n",
       "      <td>9.8</td>\n",
       "      <td>6</td>\n",
       "    </tr>\n",
       "    <tr>\n",
       "      <th>4</th>\n",
       "      <td>7.4</td>\n",
       "      <td>0.70</td>\n",
       "      <td>0.00</td>\n",
       "      <td>1.9</td>\n",
       "      <td>0.076</td>\n",
       "      <td>11.0</td>\n",
       "      <td>34.0</td>\n",
       "      <td>0.9978</td>\n",
       "      <td>3.51</td>\n",
       "      <td>0.56</td>\n",
       "      <td>9.4</td>\n",
       "      <td>5</td>\n",
       "    </tr>\n",
       "  </tbody>\n",
       "</table>\n",
       "</div>"
      ],
      "text/plain": [
       "   fixed acidity  volatile acidity  citric acid  residual sugar  chlorides  \\\n",
       "0            7.4              0.70         0.00             1.9      0.076   \n",
       "1            7.8              0.88         0.00             2.6      0.098   \n",
       "2            7.8              0.76         0.04             2.3      0.092   \n",
       "3           11.2              0.28         0.56             1.9      0.075   \n",
       "4            7.4              0.70         0.00             1.9      0.076   \n",
       "\n",
       "   free sulfur dioxide  total sulfur dioxide  density    pH  sulphates  \\\n",
       "0                 11.0                  34.0   0.9978  3.51       0.56   \n",
       "1                 25.0                  67.0   0.9968  3.20       0.68   \n",
       "2                 15.0                  54.0   0.9970  3.26       0.65   \n",
       "3                 17.0                  60.0   0.9980  3.16       0.58   \n",
       "4                 11.0                  34.0   0.9978  3.51       0.56   \n",
       "\n",
       "   alcohol  quality  \n",
       "0      9.4        5  \n",
       "1      9.8        5  \n",
       "2      9.8        5  \n",
       "3      9.8        6  \n",
       "4      9.4        5  "
      ]
     },
     "execution_count": 3,
     "metadata": {},
     "output_type": "execute_result"
    }
   ],
   "source": [
    "df = pd.read_csv('winequality-red.csv')\n",
    "df.head()"
   ]
  },
  {
   "cell_type": "code",
   "execution_count": 4,
   "id": "6940a263",
   "metadata": {},
   "outputs": [
    {
     "data": {
      "text/plain": [
       "(1599, 12)"
      ]
     },
     "execution_count": 4,
     "metadata": {},
     "output_type": "execute_result"
    }
   ],
   "source": [
    "df.shape"
   ]
  },
  {
   "cell_type": "code",
   "execution_count": 5,
   "id": "3213a92f",
   "metadata": {},
   "outputs": [
    {
     "name": "stdout",
     "output_type": "stream",
     "text": [
      "fixed acidity           0\n",
      "volatile acidity        0\n",
      "citric acid             0\n",
      "residual sugar          0\n",
      "chlorides               0\n",
      "free sulfur dioxide     0\n",
      "total sulfur dioxide    0\n",
      "density                 0\n",
      "pH                      0\n",
      "sulphates               0\n",
      "alcohol                 0\n",
      "quality                 0\n",
      "dtype: int64\n"
     ]
    }
   ],
   "source": [
    "print(df.isnull().sum()) #- no null values are present"
   ]
  },
  {
   "cell_type": "code",
   "execution_count": 6,
   "id": "3e406af9",
   "metadata": {},
   "outputs": [
    {
     "name": "stdout",
     "output_type": "stream",
     "text": [
      "fixed acidity           float64\n",
      "volatile acidity        float64\n",
      "citric acid             float64\n",
      "residual sugar          float64\n",
      "chlorides               float64\n",
      "free sulfur dioxide     float64\n",
      "total sulfur dioxide    float64\n",
      "density                 float64\n",
      "pH                      float64\n",
      "sulphates               float64\n",
      "alcohol                 float64\n",
      "quality                   int64\n",
      "dtype: object\n"
     ]
    }
   ],
   "source": [
    "print(df.dtypes)"
   ]
  },
  {
   "cell_type": "code",
   "execution_count": 7,
   "id": "b2bf5dbc",
   "metadata": {},
   "outputs": [
    {
     "name": "stdout",
     "output_type": "stream",
     "text": [
      "240\n"
     ]
    }
   ],
   "source": [
    "print(df.duplicated().sum())"
   ]
  },
  {
   "cell_type": "code",
   "execution_count": 8,
   "id": "ca03331c",
   "metadata": {},
   "outputs": [],
   "source": [
    "## as 240 our duplicated so we need to drop them\n",
    "df.drop_duplicates(inplace=True)"
   ]
  },
  {
   "cell_type": "code",
   "execution_count": 9,
   "id": "ba72d561",
   "metadata": {},
   "outputs": [
    {
     "name": "stdout",
     "output_type": "stream",
     "text": [
      "0\n"
     ]
    }
   ],
   "source": [
    "print(df.duplicated().sum())"
   ]
  },
  {
   "cell_type": "code",
   "execution_count": 10,
   "id": "19b03cc1",
   "metadata": {},
   "outputs": [
    {
     "name": "stdout",
     "output_type": "stream",
     "text": [
      "(1359, 12)\n"
     ]
    }
   ],
   "source": [
    "print(df.shape)"
   ]
  },
  {
   "cell_type": "code",
   "execution_count": 11,
   "id": "0d9c782f",
   "metadata": {},
   "outputs": [
    {
     "name": "stdout",
     "output_type": "stream",
     "text": [
      "5    577\n",
      "6    535\n",
      "7    167\n",
      "4     53\n",
      "8     17\n",
      "3     10\n",
      "Name: quality, dtype: int64\n"
     ]
    }
   ],
   "source": [
    "print(df['quality'].value_counts())"
   ]
  },
  {
   "cell_type": "code",
   "execution_count": 12,
   "id": "b4f6729c",
   "metadata": {},
   "outputs": [],
   "source": [
    "## as values for 4,8 and 3 are less in comparison to other so it means data is imbalanced.\n",
    "## let's draw a pie chart for it."
   ]
  },
  {
   "cell_type": "code",
   "execution_count": 15,
   "id": "ac748b04",
   "metadata": {},
   "outputs": [
    {
     "data": {
      "image/png": "[encoded data removed]",
      "text/plain": [
       "<Figure size 864x720 with 1 Axes>"
      ]
     },
     "metadata": {},
     "output_type": "display_data"
    },
    {
     "name": "stdout",
     "output_type": "stream",
     "text": [
      "<class 'pandas.core.series.Series'>\n",
      "5    577\n",
      "6    535\n",
      "7    167\n",
      "4     53\n",
      "8     17\n",
      "3     10\n",
      "Name: quality, dtype: int64\n"
     ]
    }
   ],
   "source": [
    "d1 = df['quality'].value_counts()\n",
    "plt.figure(figsize = (12,10)) ## - The figsize attribute allows us to specify the width and height of\n",
    "# a figure in unit inches. The figsize attribute is a parameter of the function figure(). It is an \n",
    "#optional attribute, by default the figure has the dimensions as (6.4, 4.8).\n",
    "plt.pie(x = d1,labels = d1.index,autopct = '%.2f')##autopct is used to mark the wedges with the values\n",
    "plt.show()\n",
    "print(type(d1))\n",
    "print(d1)"
   ]
  },
  {
   "cell_type": "code",
   "execution_count": 21,
   "id": "db2b3765",
   "metadata": {},
   "outputs": [],
   "source": [
    "## it is highly possible for 4,3 and 8 that they will not enter the test data when we will split\n",
    "## because their value counts are very less"
   ]
  },
  {
   "cell_type": "code",
   "execution_count": 22,
   "id": "3edc43dd",
   "metadata": {},
   "outputs": [
    {
     "name": "stdout",
     "output_type": "stream",
     "text": [
      "(1359, 11)\n",
      "(1359,)\n",
      "<class 'pandas.core.frame.DataFrame'>\n",
      "<class 'pandas.core.series.Series'>\n"
     ]
    }
   ],
   "source": [
    "x = df.iloc[:,:-1]\n",
    "y = df.iloc[:,-1]\n",
    "print(x.shape)\n",
    "print(y.shape)\n",
    "print(type(x))\n",
    "print(type(y))"
   ]
  },
  {
   "cell_type": "code",
   "execution_count": 24,
   "id": "e77bab56",
   "metadata": {},
   "outputs": [],
   "source": [
    "from sklearn.model_selection import train_test_split\n",
    "from sklearn.metrics import confusion_matrix,classification_report,accuracy_score"
   ]
  },
  {
   "cell_type": "code",
   "execution_count": 28,
   "id": "495652c4",
   "metadata": {},
   "outputs": [],
   "source": [
    "from sklearn.linear_model import LogisticRegression\n",
    "from sklearn.neighbors import KNeighborsClassifier\n",
    "from sklearn.svm import SVC\n",
    "from sklearn.tree import DecisionTreeClassifier\n",
    "from sklearn.ensemble import RandomForestClassifier"
   ]
  },
  {
   "cell_type": "code",
   "execution_count": 29,
   "id": "72aa67b2",
   "metadata": {},
   "outputs": [
    {
     "name": "stdout",
     "output_type": "stream",
     "text": [
      "(1019, 11)\n",
      "(340, 11)\n",
      "(1019,)\n",
      "(340,)\n"
     ]
    }
   ],
   "source": [
    "x_train,x_test,y_train,y_test = train_test_split(x,y,test_size = 0.25)\n",
    "print(x_train.shape)\n",
    "print(x_test.shape)\n",
    "print(y_train.shape)\n",
    "print(y_test.shape)"
   ]
  },
  {
   "cell_type": "code",
   "execution_count": 46,
   "id": "cf0a0a87",
   "metadata": {},
   "outputs": [],
   "source": [
    "def gen_met_classifier(y_test,ypred_m) :\n",
    "    cm = confusion_matrix(y_test,ypred_m)\n",
    "    print(cm) \n",
    "    print(classification_report(y_test,ypred_m,zero_division = 0)) #zero_division will give 0 if there\n",
    "                                                                   # is any zero division.\n",
    "def model_score(m) :\n",
    "    print(\"Training Score :\",m.score(x_train,y_train))\n",
    "    print(\"Testing Score :\",m.score(x_test,y_test))"
   ]
  },
  {
   "cell_type": "code",
   "execution_count": 47,
   "id": "d2e86866",
   "metadata": {},
   "outputs": [
    {
     "data": {
      "text/plain": [
       "SVC(C=1, kernel='linear')"
      ]
     },
     "execution_count": 47,
     "metadata": {},
     "output_type": "execute_result"
    }
   ],
   "source": [
    "m1 = SVC(kernel = 'linear',C = 1)\n",
    "m1.fit(x_train,y_train)"
   ]
  },
  {
   "cell_type": "code",
   "execution_count": 48,
   "id": "3bf21611",
   "metadata": {},
   "outputs": [
    {
     "name": "stdout",
     "output_type": "stream",
     "text": [
      "[6 5 5 6 6 5 5 5 6 6 6 5 6 6 5 6 5 6 6 6 5 5 6 5 6 5 6 5 6 6 5 6 5 5 5 5 5\n",
      " 6 5 5 5 5 6 6 6 5 6 5 5 6 5 5 6 5 6 5 6 5 5 5 6 5 5 6 6 6 6 5 6 6 5 5 6 6\n",
      " 6 5 5 5 5 6 5 6 6 5 6 5 5 6 6 5 6 5 5 5 6 5 6 5 5 6 5 5 5 6 5 6 5 5 5 6 6\n",
      " 5 5 6 5 5 5 6 5 5 6 6 5 5 5 6 6 5 5 5 6 5 6 5 6 6 5 5 5 5 5 5 6 6 6 6 6 6\n",
      " 5 5 6 6 6 5 5 6 5 5 5 5 5 5 5 6 6 6 5 5 6 6 5 6 6 5 6 6 6 5 6 5 6 5 6 6 5\n",
      " 5 5 6 5 6 6 5 6 5 6 6 5 5 5 6 6 6 6 6 6 5 6 5 5 5 6 6 5 5 6 6 5 6 6 6 6 5\n",
      " 5 5 5 6 5 5 5 5 5 5 6 6 5 5 5 5 6 5 5 5 5 5 6 6 5 5 5 6 5 6 5 5 6 5 5 6 6\n",
      " 6 5 5 6 6 5 5 5 6 5 6 6 6 5 6 5 6 5 6 6 5 6 6 6 5 6 6 5 6 6 5 6 5 6 6 5 6\n",
      " 6 6 5 5 5 5 5 5 5 6 5 5 5 6 5 6 6 6 6 5 5 6 5 6 5 6 5 5 5 5 5 5 6 5 5 6 5\n",
      " 5 5 6 5 6 6 5]\n"
     ]
    }
   ],
   "source": [
    "ypred_m1 = m1.predict(x_test)\n",
    "print(ypred_m1)"
   ]
  },
  {
   "cell_type": "code",
   "execution_count": 49,
   "id": "10bd1788",
   "metadata": {},
   "outputs": [
    {
     "name": "stdout",
     "output_type": "stream",
     "text": [
      "Training Score : 0.5740922473012757\n",
      "Testing Score : 0.5794117647058824\n",
      "ACCURACY : 0.5794117647058824\n"
     ]
    }
   ],
   "source": [
    "model_score(m1)\n",
    "print(\"ACCURACY :\",accuracy_score(y_test,ypred_m1))"
   ]
  },
  {
   "cell_type": "code",
   "execution_count": 50,
   "id": "1e61287d",
   "metadata": {},
   "outputs": [
    {
     "name": "stdout",
     "output_type": "stream",
     "text": [
      "[[  0   0   1   0   0   0]\n",
      " [  0   0   9   6   0   0]\n",
      " [  0   0 116  24   0   0]\n",
      " [  0   0  57  81   0   0]\n",
      " [  0   0   2  39   0   0]\n",
      " [  0   0   0   5   0   0]]\n",
      "              precision    recall  f1-score   support\n",
      "\n",
      "           3       0.00      0.00      0.00         1\n",
      "           4       0.00      0.00      0.00        15\n",
      "           5       0.63      0.83      0.71       140\n",
      "           6       0.52      0.59      0.55       138\n",
      "           7       0.00      0.00      0.00        41\n",
      "           8       0.00      0.00      0.00         5\n",
      "\n",
      "    accuracy                           0.58       340\n",
      "   macro avg       0.19      0.24      0.21       340\n",
      "weighted avg       0.47      0.58      0.52       340\n",
      "\n"
     ]
    }
   ],
   "source": [
    "gen_met_classifier(y_test,ypred_m1) #- we are getting results for only 5 and 6"
   ]
  },
  {
   "cell_type": "code",
   "execution_count": 64,
   "id": "805d6b93",
   "metadata": {},
   "outputs": [
    {
     "data": {
      "text/plain": [
       "KNeighborsClassifier(n_neighbors=20)"
      ]
     },
     "execution_count": 64,
     "metadata": {},
     "output_type": "execute_result"
    }
   ],
   "source": [
    "m2 = KNeighborsClassifier(n_neighbors = 20)\n",
    "m2.fit(x_train,y_train)"
   ]
  },
  {
   "cell_type": "code",
   "execution_count": 65,
   "id": "d3986e56",
   "metadata": {},
   "outputs": [
    {
     "name": "stdout",
     "output_type": "stream",
     "text": [
      "[4 5 6 5 6 7 5 6 5 6 7 5 6 6 5 5 5 6 5 5 6 5 5 5 5 5 6 5 6 6 6 6 5 5 5 6 5\n",
      " 7 5 5 5 5 6 6 6 6 7 5 6 6 5 5 6 5 5 5 5 6 6 6 6 5 5 5 6 6 6 5 6 6 5 6 5 5\n",
      " 6 6 5 5 6 5 6 6 5 5 6 5 5 5 6 5 5 5 6 5 5 5 6 6 6 6 5 6 5 6 5 6 5 6 5 5 5\n",
      " 5 6 6 5 5 5 5 5 6 6 5 6 5 5 5 6 5 5 6 5 5 6 5 6 6 5 5 5 5 5 5 6 6 5 6 6 6\n",
      " 5 5 6 5 6 5 6 6 6 5 5 5 5 5 5 6 5 5 5 5 6 6 6 5 6 5 6 5 7 6 6 5 6 5 6 6 5\n",
      " 5 5 7 5 5 5 5 5 5 5 6 5 5 6 6 5 6 5 6 5 5 7 5 5 5 6 6 6 6 5 5 5 5 5 5 6 6\n",
      " 5 6 5 6 6 6 5 6 5 5 5 6 5 5 5 5 6 5 5 5 5 6 5 5 5 5 5 6 5 6 5 5 5 5 5 7 5\n",
      " 6 5 5 5 5 5 5 5 6 6 6 6 6 5 5 5 5 5 5 5 5 6 7 5 6 6 6 5 6 6 5 6 6 6 5 6 6\n",
      " 6 6 6 6 6 5 5 5 6 6 5 6 6 5 5 7 5 5 5 5 5 6 5 5 6 5 5 5 5 6 5 5 6 5 5 5 5\n",
      " 5 5 6 5 6 5 5]\n"
     ]
    }
   ],
   "source": [
    "ypred_m2 = m2.predict(x_test)\n",
    "print(ypred_m2)"
   ]
  },
  {
   "cell_type": "code",
   "execution_count": 66,
   "id": "cb91fae8",
   "metadata": {},
   "outputs": [
    {
     "name": "stdout",
     "output_type": "stream",
     "text": [
      "Training Score : 0.5672227674190383\n",
      "Testing Score : 0.47941176470588237\n",
      "Accuracy : 0.47941176470588237\n"
     ]
    }
   ],
   "source": [
    "model_score(m2)\n",
    "print(\"Accuracy :\",accuracy_score(y_test,ypred_m2))"
   ]
  },
  {
   "cell_type": "code",
   "execution_count": 68,
   "id": "1b463f74",
   "metadata": {},
   "outputs": [
    {
     "name": "stdout",
     "output_type": "stream",
     "text": [
      "[[ 0  0  1  0  0  0]\n",
      " [ 0  0 11  4  0  0]\n",
      " [ 0  1 98 39  2  0]\n",
      " [ 0  0 75 60  3  0]\n",
      " [ 0  0 12 24  5  0]\n",
      " [ 0  0  1  4  0  0]]\n",
      "              precision    recall  f1-score   support\n",
      "\n",
      "           3       0.00      0.00      0.00         1\n",
      "           4       0.00      0.00      0.00        15\n",
      "           5       0.49      0.70      0.58       140\n",
      "           6       0.46      0.43      0.45       138\n",
      "           7       0.50      0.12      0.20        41\n",
      "           8       0.00      0.00      0.00         5\n",
      "\n",
      "    accuracy                           0.48       340\n",
      "   macro avg       0.24      0.21      0.20       340\n",
      "weighted avg       0.45      0.48      0.44       340\n",
      "\n"
     ]
    }
   ],
   "source": [
    "gen_met_classifier(y_test,ypred_m2) # - values are only for 5,6,7"
   ]
  },
  {
   "cell_type": "code",
   "execution_count": 96,
   "id": "5a1bb2fb",
   "metadata": {},
   "outputs": [
    {
     "data": {
      "text/plain": [
       "DecisionTreeClassifier(criterion='entropy', max_depth=6, min_samples_split=15)"
      ]
     },
     "execution_count": 96,
     "metadata": {},
     "output_type": "execute_result"
    }
   ],
   "source": [
    "m3 = DecisionTreeClassifier(criterion = 'entropy',max_depth = 6,min_samples_split = 15)\n",
    "m3.fit(x_train,y_train)"
   ]
  },
  {
   "cell_type": "code",
   "execution_count": 97,
   "id": "f4023f34",
   "metadata": {},
   "outputs": [
    {
     "name": "stdout",
     "output_type": "stream",
     "text": [
      "[4 5 5 6 6 6 5 6 5 6 7 5 6 6 5 7 5 6 6 5 5 5 6 5 6 5 6 6 6 7 5 6 6 5 5 5 5\n",
      " 6 5 5 5 5 7 7 6 6 6 5 5 6 5 5 7 5 6 5 6 5 5 5 7 5 6 6 6 6 6 5 6 5 7 5 7 6\n",
      " 6 4 5 5 6 6 6 5 5 5 6 4 5 5 6 4 6 5 6 5 6 5 6 6 5 5 6 5 5 6 5 6 5 5 6 6 6\n",
      " 5 5 6 5 5 5 5 5 6 6 6 5 5 5 5 6 6 5 6 6 6 6 5 6 6 6 5 5 5 5 5 6 5 7 6 7 6\n",
      " 5 5 6 5 6 5 5 6 5 5 5 5 5 6 5 6 5 6 4 5 7 6 5 5 7 5 6 7 6 5 6 5 6 6 7 5 6\n",
      " 5 5 6 5 6 6 5 8 5 6 5 5 5 5 6 5 6 7 7 5 5 7 5 5 5 6 7 5 6 7 7 5 5 6 5 7 5\n",
      " 6 5 6 6 6 3 5 5 5 5 6 5 5 6 5 5 6 5 5 5 5 5 6 6 5 6 5 5 5 7 5 5 5 5 5 6 6\n",
      " 6 4 5 6 5 5 5 5 6 5 7 6 6 5 7 5 6 5 6 7 5 7 6 6 5 6 5 5 6 5 5 6 5 4 7 6 6\n",
      " 5 6 6 4 5 5 5 5 6 6 5 4 6 7 5 7 6 5 6 5 6 6 5 5 5 6 5 5 5 5 5 6 7 6 5 7 5\n",
      " 5 5 6 5 6 6 5]\n"
     ]
    }
   ],
   "source": [
    "ypred_m3 = m3.predict(x_test)\n",
    "print(ypred_m3)"
   ]
  },
  {
   "cell_type": "code",
   "execution_count": 98,
   "id": "2605da36",
   "metadata": {},
   "outputs": [
    {
     "name": "stdout",
     "output_type": "stream",
     "text": [
      "Training Score : 0.6653581943081452\n",
      "Testing Score : 0.5617647058823529\n",
      "Accuracy : 0.5617647058823529\n"
     ]
    }
   ],
   "source": [
    "model_score(m3)\n",
    "print(\"Accuracy :\",accuracy_score(y_test,ypred_m3))"
   ]
  },
  {
   "cell_type": "code",
   "execution_count": 99,
   "id": "0c8002a9",
   "metadata": {},
   "outputs": [
    {
     "name": "stdout",
     "output_type": "stream",
     "text": [
      "[[  0   0   1   0   0   0]\n",
      " [  0   2  12   1   0   0]\n",
      " [  1   3 102  33   1   0]\n",
      " [  0   4  51  70  12   1]\n",
      " [  0   0   5  19  17   0]\n",
      " [  0   0   0   3   2   0]]\n",
      "              precision    recall  f1-score   support\n",
      "\n",
      "           3       0.00      0.00      0.00         1\n",
      "           4       0.22      0.13      0.17        15\n",
      "           5       0.60      0.73      0.66       140\n",
      "           6       0.56      0.51      0.53       138\n",
      "           7       0.53      0.41      0.47        41\n",
      "           8       0.00      0.00      0.00         5\n",
      "\n",
      "    accuracy                           0.56       340\n",
      "   macro avg       0.32      0.30      0.30       340\n",
      "weighted avg       0.54      0.56      0.55       340\n",
      "\n"
     ]
    }
   ],
   "source": [
    "gen_met_classifier(y_test,ypred_m3) #-  values for only 4,5,6,7"
   ]
  },
  {
   "cell_type": "code",
   "execution_count": 122,
   "id": "1d569adf",
   "metadata": {},
   "outputs": [
    {
     "data": {
      "text/plain": [
       "RandomForestClassifier(criterion='entropy', max_depth=6, min_samples_split=12,\n",
       "                       n_estimators=40)"
      ]
     },
     "execution_count": 122,
     "metadata": {},
     "output_type": "execute_result"
    }
   ],
   "source": [
    "m4 = RandomForestClassifier(criterion = 'entropy',max_depth = 6,min_samples_split = 12,n_estimators = 40)\n",
    "m4.fit(x_train,y_train)"
   ]
  },
  {
   "cell_type": "code",
   "execution_count": 123,
   "id": "0d78ef02",
   "metadata": {},
   "outputs": [
    {
     "name": "stdout",
     "output_type": "stream",
     "text": [
      "[5 5 6 6 6 5 5 5 5 6 7 5 6 6 5 7 5 6 6 6 5 5 5 5 6 5 6 5 6 7 5 6 5 5 5 5 5\n",
      " 6 5 5 5 5 7 6 6 6 6 6 6 6 5 5 6 5 6 5 6 6 5 5 6 5 5 6 6 6 6 5 6 5 7 5 7 6\n",
      " 6 5 5 5 6 6 5 6 6 6 6 5 5 5 6 5 6 5 5 5 6 5 6 5 5 5 6 5 5 6 5 6 5 5 6 6 6\n",
      " 5 6 6 5 5 5 5 5 5 6 6 5 5 5 6 6 6 5 5 6 5 6 5 6 6 5 5 5 5 5 5 6 6 6 6 6 6\n",
      " 5 5 6 6 6 5 5 6 5 5 5 6 5 5 5 6 6 6 5 5 7 6 5 5 7 5 6 6 6 5 6 5 6 5 6 6 5\n",
      " 5 5 6 5 6 6 5 6 5 5 6 5 5 5 6 5 6 7 6 6 5 6 5 5 5 6 6 5 5 7 6 5 6 6 6 6 5\n",
      " 6 6 6 6 6 5 5 5 5 5 5 6 5 6 5 5 6 5 5 5 6 5 6 6 5 5 5 6 5 7 5 5 6 5 5 6 6\n",
      " 6 6 5 6 6 5 5 6 6 6 7 6 6 5 6 5 6 5 5 6 5 6 6 6 5 6 6 5 6 6 5 6 5 6 6 5 6\n",
      " 6 6 6 6 5 5 5 5 5 6 5 5 5 7 5 7 6 6 6 6 6 6 5 6 5 5 5 6 5 5 5 5 7 6 5 6 5\n",
      " 5 5 6 5 6 6 5]\n"
     ]
    }
   ],
   "source": [
    "ypred_m4 = m4.predict(x_test)\n",
    "print(ypred_m4)"
   ]
  },
  {
   "cell_type": "code",
   "execution_count": 124,
   "id": "cebd6bd5",
   "metadata": {},
   "outputs": [
    {
     "name": "stdout",
     "output_type": "stream",
     "text": [
      "Training Score : 0.6997055937193327\n",
      "Testing Score : 0.6294117647058823\n",
      "Accuracy : 0.6294117647058823\n"
     ]
    }
   ],
   "source": [
    "model_score(m4)\n",
    "print(\"Accuracy :\",accuracy_score(y_test,ypred_m4))"
   ]
  },
  {
   "cell_type": "code",
   "execution_count": 126,
   "id": "4848f45a",
   "metadata": {},
   "outputs": [
    {
     "name": "stdout",
     "output_type": "stream",
     "text": [
      "[[  0   0   1   0   0   0]\n",
      " [  0   0   9   6   0   0]\n",
      " [  0   0 113  27   0   0]\n",
      " [  0   0  44  90   4   0]\n",
      " [  0   0   3  27  11   0]\n",
      " [  0   0   0   5   0   0]]\n",
      "              precision    recall  f1-score   support\n",
      "\n",
      "           3       0.00      0.00      0.00         1\n",
      "           4       0.00      0.00      0.00        15\n",
      "           5       0.66      0.81      0.73       140\n",
      "           6       0.58      0.65      0.61       138\n",
      "           7       0.73      0.27      0.39        41\n",
      "           8       0.00      0.00      0.00         5\n",
      "\n",
      "    accuracy                           0.63       340\n",
      "   macro avg       0.33      0.29      0.29       340\n",
      "weighted avg       0.60      0.63      0.60       340\n",
      "\n"
     ]
    }
   ],
   "source": [
    "gen_met_classifier(y_test,ypred_m4) #- values for only 5,6,7"
   ]
  },
  {
   "cell_type": "code",
   "execution_count": 136,
   "id": "f0d26676",
   "metadata": {},
   "outputs": [
    {
     "data": {
      "text/plain": [
       "LogisticRegression(max_iter=6000)"
      ]
     },
     "execution_count": 136,
     "metadata": {},
     "output_type": "execute_result"
    }
   ],
   "source": [
    "m5 = LogisticRegression(max_iter = 6000) #- for increasing iterations\n",
    "m5.fit(x_train,y_train)"
   ]
  },
  {
   "cell_type": "code",
   "execution_count": 137,
   "id": "8f1f9d44",
   "metadata": {},
   "outputs": [
    {
     "name": "stdout",
     "output_type": "stream",
     "text": [
      "[6 5 5 6 6 6 5 5 6 6 7 5 7 6 5 7 5 6 6 6 5 5 6 5 6 5 6 5 6 6 5 6 5 5 5 5 5\n",
      " 6 5 5 5 5 7 6 6 5 6 5 6 6 5 5 6 5 6 5 6 6 5 5 6 5 5 7 6 6 6 5 6 6 5 5 6 6\n",
      " 6 5 5 5 5 6 5 6 6 5 6 6 5 6 6 5 6 5 5 5 6 5 6 5 5 6 5 5 5 6 5 7 5 5 5 6 6\n",
      " 5 5 6 5 5 5 6 5 5 6 6 5 5 5 5 6 6 5 5 6 5 6 5 6 6 5 5 5 5 5 5 6 6 6 6 6 6\n",
      " 5 5 6 6 6 5 5 6 5 5 5 5 5 5 5 6 6 6 5 5 7 6 5 6 7 5 6 6 6 5 6 5 6 5 6 6 5\n",
      " 5 5 6 5 6 6 5 6 5 6 6 5 5 5 6 6 6 6 7 6 5 7 5 5 5 6 6 5 5 7 6 5 6 6 6 6 5\n",
      " 5 6 5 6 5 5 5 5 5 5 6 6 5 5 5 5 6 5 5 5 5 5 6 6 5 5 5 6 5 6 5 5 6 5 5 7 6\n",
      " 6 5 5 6 5 5 5 5 6 5 6 7 6 5 6 5 6 5 6 6 5 6 6 7 5 6 6 5 6 6 5 6 5 6 6 5 6\n",
      " 6 6 6 6 5 5 5 5 5 6 5 5 5 7 5 7 6 6 6 5 5 6 5 6 5 6 6 6 5 5 5 5 7 5 5 6 5\n",
      " 5 5 6 5 6 6 5]\n"
     ]
    }
   ],
   "source": [
    "ypred_m5 = m5.predict(x_test)\n",
    "print(ypred_m5)"
   ]
  },
  {
   "cell_type": "code",
   "execution_count": 138,
   "id": "ebbee189",
   "metadata": {},
   "outputs": [
    {
     "name": "stdout",
     "output_type": "stream",
     "text": [
      "Training Score : 0.5711481844946026\n",
      "Testing Score : 0.6058823529411764\n",
      "Accuracy :  0.6058823529411764\n"
     ]
    }
   ],
   "source": [
    "model_score(m5)\n",
    "print(\"Accuracy : \",accuracy_score(y_test,ypred_m5))"
   ]
  },
  {
   "cell_type": "code",
   "execution_count": 140,
   "id": "db61cf04",
   "metadata": {},
   "outputs": [
    {
     "name": "stdout",
     "output_type": "stream",
     "text": [
      "[[  0   0   1   0   0   0]\n",
      " [  0   0   9   6   0   0]\n",
      " [  0   0 113  26   1   0]\n",
      " [  0   0  52  82   4   0]\n",
      " [  0   0   2  28  11   0]\n",
      " [  0   0   0   4   1   0]]\n",
      "              precision    recall  f1-score   support\n",
      "\n",
      "           3       0.00      0.00      0.00         1\n",
      "           4       0.00      0.00      0.00        15\n",
      "           5       0.64      0.81      0.71       140\n",
      "           6       0.56      0.59      0.58       138\n",
      "           7       0.65      0.27      0.38        41\n",
      "           8       0.00      0.00      0.00         5\n",
      "\n",
      "    accuracy                           0.61       340\n",
      "   macro avg       0.31      0.28      0.28       340\n",
      "weighted avg       0.57      0.61      0.57       340\n",
      "\n"
     ]
    }
   ],
   "source": [
    "gen_met_classifier(y_test,ypred_m5) #-  values for only 5,6,7"
   ]
  },
  {
   "cell_type": "markdown",
   "id": "b68372dd",
   "metadata": {},
   "source": [
    "## naive bayes -"
   ]
  },
  {
   "cell_type": "code",
   "execution_count": 141,
   "id": "3079232b",
   "metadata": {},
   "outputs": [],
   "source": [
    "from sklearn.naive_bayes import GaussianNB"
   ]
  },
  {
   "cell_type": "code",
   "execution_count": 142,
   "id": "d5bd8b22",
   "metadata": {},
   "outputs": [
    {
     "data": {
      "text/plain": [
       "GaussianNB()"
      ]
     },
     "execution_count": 142,
     "metadata": {},
     "output_type": "execute_result"
    }
   ],
   "source": [
    "m6 = GaussianNB()\n",
    "m6.fit(x_train,y_train)"
   ]
  },
  {
   "cell_type": "code",
   "execution_count": 143,
   "id": "6f272eaf",
   "metadata": {},
   "outputs": [
    {
     "name": "stdout",
     "output_type": "stream",
     "text": [
      "[6 5 6 6 6 6 5 5 5 6 7 5 6 6 5 7 5 6 6 6 6 5 7 5 6 5 8 5 6 7 6 6 6 5 5 5 5\n",
      " 7 5 4 5 5 8 7 6 6 7 6 6 6 5 5 6 5 6 5 6 3 5 5 6 5 5 7 6 6 6 5 6 6 5 6 7 6\n",
      " 6 5 5 5 6 5 6 4 5 5 6 6 5 6 6 3 6 5 6 5 6 3 6 4 5 6 6 5 5 6 5 7 5 5 5 6 6\n",
      " 5 6 6 5 5 6 6 4 5 6 6 5 5 5 6 7 6 5 4 6 5 6 5 7 7 5 5 5 5 5 5 7 6 6 6 7 6\n",
      " 5 5 6 6 7 5 5 6 5 5 5 6 5 5 5 6 7 6 5 5 7 7 5 5 8 5 6 6 7 5 6 5 6 5 7 6 6\n",
      " 5 5 7 5 6 6 5 7 5 6 6 5 5 5 6 6 6 7 7 6 5 8 5 5 5 7 7 5 6 7 6 5 6 6 6 7 5\n",
      " 6 4 6 6 6 6 5 6 5 5 6 7 5 5 5 5 7 5 5 5 6 5 6 6 5 6 5 6 5 7 5 5 6 4 5 7 6\n",
      " 6 3 5 6 6 5 5 5 6 6 7 6 6 5 7 5 6 5 6 6 5 7 7 7 5 6 7 5 6 6 5 6 5 6 7 5 6\n",
      " 6 7 6 6 6 5 5 5 6 6 5 5 6 7 5 7 6 6 6 5 5 6 5 6 5 6 6 6 5 5 5 5 8 6 5 6 5\n",
      " 5 5 6 5 7 7 5]\n"
     ]
    }
   ],
   "source": [
    "ypred_m6 = m6.predict(x_test)\n",
    "print(ypred_m6)"
   ]
  },
  {
   "cell_type": "code",
   "execution_count": 144,
   "id": "33ebda49",
   "metadata": {},
   "outputs": [
    {
     "name": "stdout",
     "output_type": "stream",
     "text": [
      "Training Score : 0.5475956820412169\n",
      "Testing Score : 0.5529411764705883\n",
      "Accuracy : 0.5529411764705883\n"
     ]
    }
   ],
   "source": [
    "model_score(m6)\n",
    "print(\"Accuracy :\",accuracy_score(y_test,ypred_m6))"
   ]
  },
  {
   "cell_type": "code",
   "execution_count": 146,
   "id": "1d230e61",
   "metadata": {},
   "outputs": [
    {
     "name": "stdout",
     "output_type": "stream",
     "text": [
      "[[ 0  0  1  0  0  0]\n",
      " [ 2  0  7  6  0  0]\n",
      " [ 2  3 95 37  3  0]\n",
      " [ 0  4 38 73 22  1]\n",
      " [ 0  0  2 15 20  4]\n",
      " [ 0  0  0  5  0  0]]\n",
      "              precision    recall  f1-score   support\n",
      "\n",
      "           3       0.00      0.00      0.00         1\n",
      "           4       0.00      0.00      0.00        15\n",
      "           5       0.66      0.68      0.67       140\n",
      "           6       0.54      0.53      0.53       138\n",
      "           7       0.44      0.49      0.47        41\n",
      "           8       0.00      0.00      0.00         5\n",
      "\n",
      "    accuracy                           0.55       340\n",
      "   macro avg       0.27      0.28      0.28       340\n",
      "weighted avg       0.55      0.55      0.55       340\n",
      "\n"
     ]
    }
   ],
   "source": [
    "gen_met_classifier(y_test,ypred_m6) # - values for only 5,6,7"
   ]
  },
  {
   "cell_type": "code",
   "execution_count": null,
   "id": "d70780ef",
   "metadata": {},
   "outputs": [],
   "source": []
  }
 ],
 "metadata": {
  "kernelspec": {
   "display_name": "Python 3 (ipykernel)",
   "language": "python",
   "name": "python3"
  },
  "language_info": {
   "codemirror_mode": {
    "name": "ipython",
    "version": 3
   },
   "file_extension": ".py",
   "mimetype": "text/x-python",
   "name": "python",
   "nbconvert_exporter": "python",
   "pygments_lexer": "ipython3",
   "version": "3.9.7"
  }
 },
 "nbformat": 4,
 "nbformat_minor": 5
}
